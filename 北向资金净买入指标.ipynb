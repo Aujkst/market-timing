{
 "cells": [
  {
   "cell_type": "code",
   "execution_count": null,
   "metadata": {},
   "outputs": [],
   "source": [
    "import warnings\n",
    "warnings.simplefilter('ignore', UserWarning)\n",
    "\n",
    "from market_timing import MarketTiming\n",
    "from qdb import QdbApi\n",
    "q = QdbApi()"
   ]
  },
  {
   "cell_type": "markdown",
   "metadata": {},
   "source": [
    "## 指标：北向资金净买入\n",
    "\n",
    "$$\n",
    "X_t:= NorthCap(t_i)\n",
    "$$\n",
    "\n",
    "使用过去50个交易日作为滑动窗口进行Z-score标准化，得到最终输入信号$fcst$\n",
    "$$\n",
    "fcst = \\{fcst_t,\\ t\\in T\\}:= \\{f(X_t),\\ t\\in T\\}\n",
    "= \\left\\{ \\frac{X_t - \\bar{x}_t}{\\sigma_{t}}, t\\in T \\right\\}\n",
    "$$\n",
    "$\\bar{x}_t$和$\\sigma_{t}$为过去50个交易日$[t-49, t]$的均值和标准差"
   ]
  },
  {
   "cell_type": "code",
   "execution_count": null,
   "metadata": {},
   "outputs": [],
   "source": [
    "mt_model = MarketTiming(history_start_date='2015-07-01')\n",
    "\n",
    "north_cap_sgn = q.get_macro_data(macro_ids=[\"north_cap\"]).set_index(\"data_date\")[\"value_\"]\n",
    "mt_model.signal_input(north_cap_sgn)"
   ]
  },
  {
   "cell_type": "markdown",
   "metadata": {},
   "source": [
    "## 内积评估\n",
    "定义\n",
    "$$ret(t+h) = \\left.\\left (\\frac{Close(t+h)}{Open(t+1)} - 1\\right )\\right/ h $$\n",
    "表示未来$h$天股指的平均日涨跌幅和\n",
    "$$ret(t+h_1, t+h_2) = \\left.\\left(\\frac{Close(t+h_2)}{Open(t+h_1)} - 1\\right)\\right/ (h_2-h_1+1)$$\n",
    "表示从未来$h_1$天到未来$h_2$天股指的涨跌幅。再使用不同的时间期限分别计算内积\n",
    "$$\n",
    "fcst^T \\cdot [ ret_{1}, ret_{5}, ret_{10}, ret_{21}, ret_{63} ]\n",
    "$$\n",
    "和\n",
    "$$\n",
    "fcst^T \\cdot [ ret_{1}, ret_{2, 5}, ret_{6, 10}, ret_{11, 21}, ret_{22, 63} ]\n",
    "$$\n",
    "生成累积的内积序列，分别作图比较"
   ]
  },
  {
   "cell_type": "code",
   "execution_count": null,
   "metadata": {},
   "outputs": [],
   "source": [
    "mt_model.dot_product_analysis()"
   ]
  },
  {
   "cell_type": "markdown",
   "metadata": {},
   "source": [
    "## 与主要因子相关性"
   ]
  },
  {
   "cell_type": "code",
   "execution_count": null,
   "metadata": {},
   "outputs": [],
   "source": [
    "mt_model.corr_analysis()"
   ]
  },
  {
   "cell_type": "markdown",
   "metadata": {},
   "source": [
    "## 回测"
   ]
  },
  {
   "cell_type": "markdown",
   "metadata": {},
   "source": [
    "\n",
    "- 做多：$t$日触发$fcst_{t} > 1$时，对$t+1$日的股指进行做多操作（$pos_{t+1} = 1$），$t+2$日恢复平仓（$pos_{t+2} = 0$）\n",
    "- 做空：$t$日触发$fcst_{t} < 1$时，对从$t+22$日到$t+63$日的股指开始进行做空操作（$pos = -1$），$t+64$日恢复平仓\n",
    "- 做空操作期间，如果触发做多信号，则立即转为做多\n",
    "\n",
    "股指隔夜涨跌幅\n",
    "$$overnight\\_ret_t = \\frac{Open_t}{Close_{t-1}} - 1$$\n",
    "股指白天涨跌幅\n",
    "$$daytime\\_ret_t = \\frac{Close_t}{Open_{t}} - 1$$\n",
    "因此$t$日的策略收益$stgy\\_ret_t$由隔夜收益和白天收益两部分组成\n",
    "$$stgy\\_ret_t = (1 + pos_{t-1} \\cdot overnight\\_ret_t) (1 + pos_{t} \\cdot daytime\\_ret_t) - 1$$"
   ]
  },
  {
   "cell_type": "markdown",
   "metadata": {},
   "source": [
    "## 业绩评估"
   ]
  },
  {
   "cell_type": "code",
   "execution_count": null,
   "metadata": {},
   "outputs": [],
   "source": [
    "mt_model.backtest(\n",
    "    long_threshold=1, long_start=1, long_period=1,\n",
    "    short_threshold=-1, short_start=11, short_period=10,\n",
    "    mode='history'\n",
    ")"
   ]
  },
  {
   "cell_type": "code",
   "execution_count": null,
   "metadata": {},
   "outputs": [],
   "source": [
    "mt_model.backtest(\n",
    "    long_threshold=1, long_start=1, long_period=1,\n",
    "    short_threshold=-1, short_start=11, short_period=10,\n",
    "    mode='test'\n",
    ")"
   ]
  },
  {
   "cell_type": "code",
   "execution_count": null,
   "metadata": {},
   "outputs": [],
   "source": [
    "mt_model.backtest(\n",
    "    long_threshold=1, long_start=1, long_period=1,\n",
    "    short_threshold=-1, short_start=11, short_period=10,\n",
    "    mode='all'\n",
    ")"
   ]
  },
  {
   "cell_type": "code",
   "execution_count": null,
   "metadata": {},
   "outputs": [],
   "source": []
  },
  {
   "cell_type": "code",
   "execution_count": null,
   "metadata": {},
   "outputs": [],
   "source": []
  },
  {
   "cell_type": "code",
   "execution_count": null,
   "metadata": {},
   "outputs": [],
   "source": []
  },
  {
   "cell_type": "code",
   "execution_count": null,
   "metadata": {},
   "outputs": [],
   "source": []
  },
  {
   "cell_type": "code",
   "execution_count": null,
   "metadata": {},
   "outputs": [],
   "source": []
  },
  {
   "cell_type": "code",
   "execution_count": null,
   "metadata": {},
   "outputs": [],
   "source": []
  },
  {
   "cell_type": "code",
   "execution_count": null,
   "metadata": {},
   "outputs": [],
   "source": []
  },
  {
   "cell_type": "code",
   "execution_count": null,
   "metadata": {},
   "outputs": [],
   "source": [
    "盈亏比\n",
    "盈亏分布曲线\n",
    "收益率周月度效益分布（+节假日前后）\n",
    "换手率\n",
    "主要因子相关性（动量因子-过去20）\n",
    "指数 线性回归 alpha beta\n",
    "\n",
    "\n",
    "两套策略 \n",
    " - 每天调仓\n",
    "- "
   ]
  }
 ],
 "metadata": {
  "interpreter": {
   "hash": "cd78fef2128015050713e82ca51c6520b11aee7c9ee8df750520bbbc7384cbaa"
  },
  "kernelspec": {
   "display_name": "Python 3",
   "language": "python",
   "name": "python3"
  },
  "language_info": {
   "codemirror_mode": {
    "name": "ipython",
    "version": 3
   },
   "file_extension": ".py",
   "mimetype": "text/x-python",
   "name": "python",
   "nbconvert_exporter": "python",
   "pygments_lexer": "ipython3",
   "version": "3.8.5"
  },
  "toc": {
   "base_numbering": 1,
   "nav_menu": {
    "height": "125px",
    "width": "311px"
   },
   "number_sections": true,
   "sideBar": true,
   "skip_h1_title": false,
   "title_cell": "Table of Contents",
   "title_sidebar": "Contents",
   "toc_cell": false,
   "toc_position": {
    "height": "calc(100% - 180px)",
    "left": "10px",
    "top": "150px",
    "width": "165px"
   },
   "toc_section_display": true,
   "toc_window_display": true
  }
 },
 "nbformat": 4,
 "nbformat_minor": 4
}
